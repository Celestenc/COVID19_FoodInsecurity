{
 "cells": [
  {
   "cell_type": "markdown",
   "id": "440eb76e",
   "metadata": {},
   "source": [
    "# Unemployment Analysis\n",
    "#### Lauryne Assa"
   ]
  },
  {
   "cell_type": "code",
   "execution_count": 2,
   "id": "bf1852b2",
   "metadata": {},
   "outputs": [
    {
     "name": "stdout",
     "output_type": "stream",
     "text": [
      "Requirement already satisfied: openpyxl in /Library/Frameworks/Python.framework/Versions/3.8/lib/python3.8/site-packages (3.0.7)\n",
      "Requirement already satisfied: et-xmlfile in /Library/Frameworks/Python.framework/Versions/3.8/lib/python3.8/site-packages (from openpyxl) (1.1.0)\n",
      "\u001b[33mWARNING: You are using pip version 20.2.4; however, version 21.2.4 is available.\n",
      "You should consider upgrading via the '/Library/Frameworks/Python.framework/Versions/3.8/bin/python3.8 -m pip install --upgrade pip' command.\u001b[0m\n"
     ]
    }
   ],
   "source": [
    "import pandas as pd\n",
    "import matplotlib.pyplot as plt\n",
    "import seaborn as sns\n",
    "!pip install openpyxl"
   ]
  },
  {
   "cell_type": "code",
   "execution_count": 3,
   "id": "f65b8b9c",
   "metadata": {},
   "outputs": [],
   "source": [
    "df2019=pd.read_excel('laucnty19.xlsx')\n",
    "df2020=pd.read_excel('laucnty20.xlsx')"
   ]
  },
  {
   "cell_type": "markdown",
   "id": "8d88fd17",
   "metadata": {},
   "source": [
    "## Clean Data"
   ]
  },
  {
   "cell_type": "code",
   "execution_count": 4,
   "id": "872a7af6",
   "metadata": {},
   "outputs": [
    {
     "data": {
      "text/html": [
       "<div>\n",
       "<style scoped>\n",
       "    .dataframe tbody tr th:only-of-type {\n",
       "        vertical-align: middle;\n",
       "    }\n",
       "\n",
       "    .dataframe tbody tr th {\n",
       "        vertical-align: top;\n",
       "    }\n",
       "\n",
       "    .dataframe thead th {\n",
       "        text-align: right;\n",
       "    }\n",
       "</style>\n",
       "<table border=\"1\" class=\"dataframe\">\n",
       "  <thead>\n",
       "    <tr style=\"text-align: right;\">\n",
       "      <th></th>\n",
       "      <th>county_name</th>\n",
       "      <th>unemployment_rate</th>\n",
       "      <th>fips</th>\n",
       "      <th>year</th>\n",
       "    </tr>\n",
       "  </thead>\n",
       "  <tbody>\n",
       "    <tr>\n",
       "      <th>1832</th>\n",
       "      <td>Albany County, NY</td>\n",
       "      <td>3.5</td>\n",
       "      <td>36001</td>\n",
       "      <td>2019</td>\n",
       "    </tr>\n",
       "    <tr>\n",
       "      <th>1833</th>\n",
       "      <td>Allegany County, NY</td>\n",
       "      <td>5.3</td>\n",
       "      <td>36003</td>\n",
       "      <td>2019</td>\n",
       "    </tr>\n",
       "    <tr>\n",
       "      <th>1834</th>\n",
       "      <td>Bronx County, NY</td>\n",
       "      <td>5.3</td>\n",
       "      <td>36005</td>\n",
       "      <td>2019</td>\n",
       "    </tr>\n",
       "    <tr>\n",
       "      <th>1835</th>\n",
       "      <td>Broome County, NY</td>\n",
       "      <td>4.5</td>\n",
       "      <td>36007</td>\n",
       "      <td>2019</td>\n",
       "    </tr>\n",
       "    <tr>\n",
       "      <th>1836</th>\n",
       "      <td>Cattaraugus County, NY</td>\n",
       "      <td>4.8</td>\n",
       "      <td>36009</td>\n",
       "      <td>2019</td>\n",
       "    </tr>\n",
       "    <tr>\n",
       "      <th>...</th>\n",
       "      <td>...</td>\n",
       "      <td>...</td>\n",
       "      <td>...</td>\n",
       "      <td>...</td>\n",
       "    </tr>\n",
       "    <tr>\n",
       "      <th>1889</th>\n",
       "      <td>Washington County, NY</td>\n",
       "      <td>3.9</td>\n",
       "      <td>36115</td>\n",
       "      <td>2019</td>\n",
       "    </tr>\n",
       "    <tr>\n",
       "      <th>1890</th>\n",
       "      <td>Wayne County, NY</td>\n",
       "      <td>3.9</td>\n",
       "      <td>36117</td>\n",
       "      <td>2019</td>\n",
       "    </tr>\n",
       "    <tr>\n",
       "      <th>1891</th>\n",
       "      <td>Westchester County, NY</td>\n",
       "      <td>3.6</td>\n",
       "      <td>36119</td>\n",
       "      <td>2019</td>\n",
       "    </tr>\n",
       "    <tr>\n",
       "      <th>1892</th>\n",
       "      <td>Wyoming County, NY</td>\n",
       "      <td>4.2</td>\n",
       "      <td>36121</td>\n",
       "      <td>2019</td>\n",
       "    </tr>\n",
       "    <tr>\n",
       "      <th>1893</th>\n",
       "      <td>Yates County, NY</td>\n",
       "      <td>3.6</td>\n",
       "      <td>36123</td>\n",
       "      <td>2019</td>\n",
       "    </tr>\n",
       "  </tbody>\n",
       "</table>\n",
       "<p>62 rows × 4 columns</p>\n",
       "</div>"
      ],
      "text/plain": [
       "                 county_name unemployment_rate   fips  year\n",
       "1832       Albany County, NY               3.5  36001  2019\n",
       "1833     Allegany County, NY               5.3  36003  2019\n",
       "1834        Bronx County, NY               5.3  36005  2019\n",
       "1835       Broome County, NY               4.5  36007  2019\n",
       "1836  Cattaraugus County, NY               4.8  36009  2019\n",
       "...                      ...               ...    ...   ...\n",
       "1889   Washington County, NY               3.9  36115  2019\n",
       "1890        Wayne County, NY               3.9  36117  2019\n",
       "1891  Westchester County, NY               3.6  36119  2019\n",
       "1892      Wyoming County, NY               4.2  36121  2019\n",
       "1893        Yates County, NY               3.6  36123  2019\n",
       "\n",
       "[62 rows x 4 columns]"
      ]
     },
     "execution_count": 4,
     "metadata": {},
     "output_type": "execute_result"
    }
   ],
   "source": [
    "#drop columns & rows\n",
    "df2019=df2019.drop(columns=['Labor Force Data by County, 2019 Annual Averages','Unnamed: 4','Unnamed: 5','Unnamed: 6',\n",
    "            'Unnamed: 7','Unnamed: 8'])\n",
    "\n",
    "df2019=df2019.rename(columns={'Unnamed: 1':'fips1',\n",
    "                      'Unnamed: 2':'fips2',\n",
    "                      'Unnamed: 3':'county_name',\n",
    "                      'Unnamed: 9':'unemployment_rate'})\n",
    "\n",
    "df2019=df2019.drop([0,1,2,3,4])\n",
    "df2019=df2019.drop([3224,3225,3226])\n",
    "\n",
    "#assign data types\n",
    "df2019['fips1']=df2019['fips1'].astype(str)\n",
    "df2019['fips2']=df2019['fips2'].astype(str)\n",
    "df2019['fips']=df2019['fips1']+df2019['fips2']\n",
    "df2019=df2019.drop(columns=['fips1','fips2'])\n",
    "\n",
    "#keep new york state\n",
    "df2019=df2019[df2019.county_name.str.contains(\"NY\")]\n",
    "df2019['year']=\"2019\"\n",
    "\n",
    "df2019"
   ]
  },
  {
   "cell_type": "code",
   "execution_count": 5,
   "id": "d191ee10",
   "metadata": {},
   "outputs": [
    {
     "data": {
      "text/html": [
       "<div>\n",
       "<style scoped>\n",
       "    .dataframe tbody tr th:only-of-type {\n",
       "        vertical-align: middle;\n",
       "    }\n",
       "\n",
       "    .dataframe tbody tr th {\n",
       "        vertical-align: top;\n",
       "    }\n",
       "\n",
       "    .dataframe thead th {\n",
       "        text-align: right;\n",
       "    }\n",
       "</style>\n",
       "<table border=\"1\" class=\"dataframe\">\n",
       "  <thead>\n",
       "    <tr style=\"text-align: right;\">\n",
       "      <th></th>\n",
       "      <th>county_name</th>\n",
       "      <th>unemployment_rate</th>\n",
       "      <th>fips</th>\n",
       "      <th>year</th>\n",
       "    </tr>\n",
       "  </thead>\n",
       "  <tbody>\n",
       "    <tr>\n",
       "      <th>1832</th>\n",
       "      <td>Albany County, NY</td>\n",
       "      <td>7.2</td>\n",
       "      <td>36001</td>\n",
       "      <td>2020</td>\n",
       "    </tr>\n",
       "    <tr>\n",
       "      <th>1833</th>\n",
       "      <td>Allegany County, NY</td>\n",
       "      <td>8.1</td>\n",
       "      <td>36003</td>\n",
       "      <td>2020</td>\n",
       "    </tr>\n",
       "    <tr>\n",
       "      <th>1834</th>\n",
       "      <td>Bronx County, NY</td>\n",
       "      <td>16</td>\n",
       "      <td>36005</td>\n",
       "      <td>2020</td>\n",
       "    </tr>\n",
       "    <tr>\n",
       "      <th>1835</th>\n",
       "      <td>Broome County, NY</td>\n",
       "      <td>8.7</td>\n",
       "      <td>36007</td>\n",
       "      <td>2020</td>\n",
       "    </tr>\n",
       "    <tr>\n",
       "      <th>1836</th>\n",
       "      <td>Cattaraugus County, NY</td>\n",
       "      <td>9.4</td>\n",
       "      <td>36009</td>\n",
       "      <td>2020</td>\n",
       "    </tr>\n",
       "    <tr>\n",
       "      <th>...</th>\n",
       "      <td>...</td>\n",
       "      <td>...</td>\n",
       "      <td>...</td>\n",
       "      <td>...</td>\n",
       "    </tr>\n",
       "    <tr>\n",
       "      <th>1889</th>\n",
       "      <td>Washington County, NY</td>\n",
       "      <td>7.2</td>\n",
       "      <td>36115</td>\n",
       "      <td>2020</td>\n",
       "    </tr>\n",
       "    <tr>\n",
       "      <th>1890</th>\n",
       "      <td>Wayne County, NY</td>\n",
       "      <td>7.4</td>\n",
       "      <td>36117</td>\n",
       "      <td>2020</td>\n",
       "    </tr>\n",
       "    <tr>\n",
       "      <th>1891</th>\n",
       "      <td>Westchester County, NY</td>\n",
       "      <td>8.4</td>\n",
       "      <td>36119</td>\n",
       "      <td>2020</td>\n",
       "    </tr>\n",
       "    <tr>\n",
       "      <th>1892</th>\n",
       "      <td>Wyoming County, NY</td>\n",
       "      <td>7.5</td>\n",
       "      <td>36121</td>\n",
       "      <td>2020</td>\n",
       "    </tr>\n",
       "    <tr>\n",
       "      <th>1893</th>\n",
       "      <td>Yates County, NY</td>\n",
       "      <td>6.5</td>\n",
       "      <td>36123</td>\n",
       "      <td>2020</td>\n",
       "    </tr>\n",
       "  </tbody>\n",
       "</table>\n",
       "<p>62 rows × 4 columns</p>\n",
       "</div>"
      ],
      "text/plain": [
       "                 county_name unemployment_rate   fips  year\n",
       "1832       Albany County, NY               7.2  36001  2020\n",
       "1833     Allegany County, NY               8.1  36003  2020\n",
       "1834        Bronx County, NY                16  36005  2020\n",
       "1835       Broome County, NY               8.7  36007  2020\n",
       "1836  Cattaraugus County, NY               9.4  36009  2020\n",
       "...                      ...               ...    ...   ...\n",
       "1889   Washington County, NY               7.2  36115  2020\n",
       "1890        Wayne County, NY               7.4  36117  2020\n",
       "1891  Westchester County, NY               8.4  36119  2020\n",
       "1892      Wyoming County, NY               7.5  36121  2020\n",
       "1893        Yates County, NY               6.5  36123  2020\n",
       "\n",
       "[62 rows x 4 columns]"
      ]
     },
     "execution_count": 5,
     "metadata": {},
     "output_type": "execute_result"
    }
   ],
   "source": [
    "#same thing for all years\n",
    "df2020=df2020.drop(columns=['Labor Force Data by County, 2020 Annual Averages','Unnamed: 4','Unnamed: 5','Unnamed: 6',\n",
    "            'Unnamed: 7','Unnamed: 8'])\n",
    "\n",
    "df2020=df2020.rename(columns={'Unnamed: 1':'fips1',\n",
    "                      'Unnamed: 2':'fips2',\n",
    "                      'Unnamed: 3':'county_name',\n",
    "                      'Unnamed: 9':'unemployment_rate'})\n",
    "\n",
    "df2020=df2020.drop([0,1,2,3,4])\n",
    "df2020=df2020.drop([3224,3225,3226])\n",
    "\n",
    "df2020['fips1']=df2020['fips1'].astype(str)\n",
    "df2020['fips2']=df2020['fips2'].astype(str)\n",
    "df2020['fips']=df2020['fips1']+df2020['fips2']\n",
    "df2020=df2020.drop(columns=['fips1','fips2'])\n",
    "\n",
    "df2020=df2020[df2020.county_name.str.contains(\"NY\")]\n",
    "df2020['year']=\"2020\"\n",
    "df2020"
   ]
  },
  {
   "cell_type": "code",
   "execution_count": 6,
   "id": "3a46d10f",
   "metadata": {},
   "outputs": [],
   "source": [
    "#Concatenate all years together\n",
    "df=pd.concat([df2019,df2020]).reset_index()\n",
    "df['unemployment_rate']=df['unemployment_rate'].astype(int)"
   ]
  },
  {
   "cell_type": "code",
   "execution_count": 7,
   "id": "22d53dc7",
   "metadata": {},
   "outputs": [],
   "source": [
    "df.to_csv('unemployment.csv',index=False)"
   ]
  },
  {
   "cell_type": "markdown",
   "id": "65f3695f",
   "metadata": {},
   "source": [
    "## Visualizations"
   ]
  },
  {
   "cell_type": "markdown",
   "id": "beaea7cf",
   "metadata": {},
   "source": [
    "### New York State Aggregate"
   ]
  },
  {
   "cell_type": "code",
   "execution_count": 9,
   "id": "d11b7182",
   "metadata": {},
   "outputs": [
    {
     "data": {
      "text/plain": [
       "Text(0.5, 1.0, 'Unemployment Rate in New York')"
      ]
     },
     "execution_count": 9,
     "metadata": {},
     "output_type": "execute_result"
    },
    {
     "data": {
      "image/png": "[encoded data removed]",
      "text/plain": [
       "<Figure size 432x288 with 1 Axes>"
      ]
     },
     "metadata": {
      "needs_background": "light"
     },
     "output_type": "display_data"
    }
   ],
   "source": [
    "ax=sns.lineplot(data=df,x='year',y='unemployment_rate')\n",
    "ax.set_title(\"Unemployment Rate in New York\")"
   ]
  },
  {
   "cell_type": "markdown",
   "id": "24b26070",
   "metadata": {},
   "source": [
    "### Just New York City"
   ]
  },
  {
   "cell_type": "code",
   "execution_count": 10,
   "id": "dc8e9745",
   "metadata": {},
   "outputs": [
    {
     "data": {
      "image/png": "[encoded data removed]",
      "text/plain": [
       "<Figure size 432x288 with 1 Axes>"
      ]
     },
     "metadata": {
      "needs_background": "light"
     },
     "output_type": "display_data"
    }
   ],
   "source": [
    "newyorkcity=['New York County, NY','Kings County, NY','Bronx County, NY','Richmond County, NY','Queens County, NY']\n",
    "dfcity=df[df['county_name'].isin(newyorkcity)]\n",
    "ax=sns.lineplot(data=dfcity,x='year',y='unemployment_rate',hue='county_name')"
   ]
  },
  {
   "cell_type": "markdown",
   "id": "e4a1b74a",
   "metadata": {},
   "source": [
    "### both the aggregate and the set of counties from NYC both show an increase in unemployment from 2019 to 2020"
   ]
  }
 ],
 "metadata": {
  "kernelspec": {
   "display_name": "Python 3",
   "language": "python",
   "name": "python3"
  },
  "language_info": {
   "codemirror_mode": {
    "name": "ipython",
    "version": 3
   },
   "file_extension": ".py",
   "mimetype": "text/x-python",
   "name": "python",
   "nbconvert_exporter": "python",
   "pygments_lexer": "ipython3",
   "version": "3.8.5"
  }
 },
 "nbformat": 4,
 "nbformat_minor": 5
}
